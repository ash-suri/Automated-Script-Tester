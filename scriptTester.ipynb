{
 "cells": [
  {
   "cell_type": "code",
   "execution_count": 1,
   "metadata": {},
   "outputs": [],
   "source": [
    "import pandas as pd\n",
    "import sys\n",
    "import os\n",
    "import time"
   ]
  },
  {
   "cell_type": "code",
   "execution_count": 2,
   "metadata": {
    "scrolled": false
   },
   "outputs": [],
   "source": [
    "df = pd.read_csv('Inputs_Outputs.csv') # Read solution set CSV with two columns, Input and Expected Output"
   ]
  },
  {
   "cell_type": "code",
   "execution_count": 3,
   "metadata": {},
   "outputs": [],
   "source": [
    "countTest = 0 # Counter corresponds to row index\n",
    "for i in df['Input']: # Iterate through all possible input values from solution set\n",
    "    startTime = time.perf_counter() # Record time prior to script execution\n",
    "    realOutput = int(str(os.popen('python numSquared.py ' + str(i)).read()).replace('\\n','')) # Execute script using os.popen to invoke python script via command line and input current argument (i)\n",
    "    endTime = time.perf_counter() # Record time upon completion of script\n",
    "    df.at[countTest,'Actual Output'] = realOutput # Write script result to csv\n",
    "    df.loc[countTest,'Execution Time(s)'] = (endTime - startTime) # Write execution time to new column\n",
    "    countTest+=1 # Count increment to move to next input index"
   ]
  },
  {
   "cell_type": "code",
   "execution_count": 4,
   "metadata": {},
   "outputs": [],
   "source": [
    "countCompare = 0 # Seperate counter to track index for test comparison\n",
    "for i in df['Expected Output']: # Iterate through expected output values while comparing against actual output\n",
    "    if i == df.at[countCompare,'Actual Output']:\n",
    "        df.loc[countCompare,'Test Outcome'] = 'SUCCESS' # If both are the same, write accordingly to csv, vice versa if they're different\n",
    "        countCompare+=1 # Increment to next index\n",
    "    else:\n",
    "        df.loc[countCompare,'Test Outcome'] = 'FAIL'\n",
    "        countCompare+=1"
   ]
  },
  {
   "cell_type": "code",
   "execution_count": 6,
   "metadata": {},
   "outputs": [
    {
     "data": {
      "text/plain": [
       "<matplotlib.axes._subplots.AxesSubplot at 0x239777f1c88>"
      ]
     },
     "execution_count": 6,
     "metadata": {},
     "output_type": "execute_result"
    },
    {
     "data": {
      "image/png": "[encoded data removed]",
      "text/plain": [
       "<Figure size 432x288 with 1 Axes>"
      ]
     },
     "metadata": {
      "needs_background": "light"
     },
     "output_type": "display_data"
    }
   ],
   "source": [
    "df.plot(x='Input',y='Execution Time(s)') # Generate graph for visual trend analysis"
   ]
  },
  {
   "cell_type": "code",
   "execution_count": 7,
   "metadata": {},
   "outputs": [],
   "source": [
    "df.to_csv('Test_Results.csv') # Generate report"
   ]
  }
 ],
 "metadata": {
  "kernelspec": {
   "display_name": "Python 3",
   "language": "python",
   "name": "python3"
  },
  "language_info": {
   "codemirror_mode": {
    "name": "ipython",
    "version": 3
   },
   "file_extension": ".py",
   "mimetype": "text/x-python",
   "name": "python",
   "nbconvert_exporter": "python",
   "pygments_lexer": "ipython3",
   "version": "3.7.6"
  }
 },
 "nbformat": 4,
 "nbformat_minor": 4
}
